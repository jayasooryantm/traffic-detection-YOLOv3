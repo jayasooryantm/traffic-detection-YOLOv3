{
 "cells": [
  {
   "cell_type": "code",
   "execution_count": 1,
   "metadata": {},
   "outputs": [],
   "source": [
    "import pandas as pd\n",
    "import os"
   ]
  },
  {
   "cell_type": "code",
   "execution_count": 2,
   "metadata": {},
   "outputs": [],
   "source": [
    "full_path_to_csv = '/Users/jaya/Downloads/ARU_Projects_Tri2/Application_of_Machine_Learning_Project/Traffic_Detection/Dataset/OID/csv_folder'\n",
    "full_path_to_images = '/Users/jaya/Downloads/ARU_Projects_Tri2/Application_of_Machine_Learning_Project/Traffic_Detection/Dataset/OID/Dataset/train/Car_Truck_Motorcycle_Van_Taxi'"
   ]
  },
  {
   "cell_type": "code",
   "execution_count": 3,
   "metadata": {},
   "outputs": [],
   "source": [
    "labels = ['Car', 'Truck', 'Motorcycle', 'Van', 'Taxi']"
   ]
  },
  {
   "cell_type": "code",
   "execution_count": 4,
   "metadata": {},
   "outputs": [],
   "source": [
    "classes = pd.read_csv(full_path_to_csv + '/' + 'class-descriptions-boxable.csv', usecols=[0, 1], header=None)"
   ]
  },
  {
   "cell_type": "code",
   "execution_count": 5,
   "metadata": {},
   "outputs": [],
   "source": [
    "encrypted_strings = []"
   ]
  },
  {
   "cell_type": "code",
   "execution_count": 6,
   "metadata": {},
   "outputs": [],
   "source": [
    "for v in labels:\n",
    "    sub_classes = classes.loc[classes[1] == v]\n",
    "    e = sub_classes.iloc[0][0]\n",
    "    encrypted_strings.append(e)"
   ]
  },
  {
   "cell_type": "code",
   "execution_count": 7,
   "metadata": {},
   "outputs": [],
   "source": [
    "annotations = pd.read_csv(full_path_to_csv + '/' + 'train-annotations-bbox.csv', usecols=['ImageID', 'LabelName', 'XMin', 'XMax', 'YMin', 'YMax'])"
   ]
  },
  {
   "cell_type": "code",
   "execution_count": 8,
   "metadata": {},
   "outputs": [],
   "source": [
    "sub_ann = annotations.loc[annotations['LabelName'].isin(encrypted_strings)].copy()"
   ]
  },
  {
   "cell_type": "code",
   "execution_count": 9,
   "metadata": {},
   "outputs": [],
   "source": [
    "sub_ann['classNumber'] = ''\n",
    "sub_ann['center x'] = ''\n",
    "sub_ann['center y'] = ''\n",
    "sub_ann['width'] = ''\n",
    "sub_ann['height'] = ''"
   ]
  },
  {
   "cell_type": "code",
   "execution_count": 10,
   "metadata": {},
   "outputs": [],
   "source": [
    "for i in range(len(encrypted_strings)):\n",
    "    sub_ann.loc[sub_ann['LabelName'] == encrypted_strings[i], 'classNumber'] = i"
   ]
  },
  {
   "cell_type": "code",
   "execution_count": 11,
   "metadata": {},
   "outputs": [],
   "source": [
    "sub_ann['center x'] = (sub_ann['XMax'] + sub_ann['XMin']) / 2\n",
    "sub_ann['center y'] = (sub_ann['YMax'] + sub_ann['YMin']) / 2\n",
    "sub_ann['width'] = sub_ann['XMax'] - sub_ann['XMin']\n",
    "sub_ann['height'] = sub_ann['YMax'] - sub_ann['YMin']"
   ]
  },
  {
   "cell_type": "code",
   "execution_count": 12,
   "metadata": {},
   "outputs": [],
   "source": [
    "r = sub_ann.loc[:, ['ImageID', 'classNumber', 'center x', 'center y', 'width', 'height']].copy()"
   ]
  },
  {
   "cell_type": "code",
   "execution_count": 13,
   "metadata": {},
   "outputs": [],
   "source": [
    "os.chdir(full_path_to_images)"
   ]
  },
  {
   "cell_type": "code",
   "execution_count": 14,
   "metadata": {},
   "outputs": [],
   "source": [
    "for current_dir, dirs, files in os.walk('.'):\n",
    "    for f in files:\n",
    "        if f.endswith('.jpg'):\n",
    "            image_name = f[:-4]\n",
    "            sub_r = r.loc[r['ImageID'] == image_name]\n",
    "            \n",
    "            resulted_frame = sub_r.loc[:, ['classNumber',\n",
    "                                           'center x',\n",
    "                                           'center y',\n",
    "                                           'width',\n",
    "                                           'height']].copy()\n",
    "\n",
    "            path_to_save = full_path_to_images + '/' + image_name + '.txt'\n",
    "\n",
    "            resulted_frame.to_csv(path_to_save, header=False, index=False, sep=' ')"
   ]
  },
  {
   "cell_type": "code",
   "execution_count": 15,
   "metadata": {},
   "outputs": [],
   "source": [
    "path_collection = []"
   ]
  },
  {
   "cell_type": "code",
   "execution_count": 16,
   "metadata": {},
   "outputs": [],
   "source": [
    "for current_dir, dirs, files in os.walk('.'):\n",
    "    for f in files:\n",
    "        if f.endswith('.jpg'):\n",
    "            path_to_save_into_txt_files = full_path_to_images + '/' + f\n",
    "            path_collection.append(path_to_save_into_txt_files + '\\n')"
   ]
  },
  {
   "cell_type": "code",
   "execution_count": 17,
   "metadata": {},
   "outputs": [],
   "source": [
    "test_path = path_collection[:int(len(path_collection) * 0.15)]\n",
    "path_collection = path_collection[int(len(path_collection) * 0.15):]"
   ]
  },
  {
   "cell_type": "code",
   "execution_count": 18,
   "metadata": {},
   "outputs": [],
   "source": [
    "with open('train.txt', 'w') as train_txt:\n",
    "    for e in path_collection:\n",
    "        train_txt.write(e)"
   ]
  },
  {
   "cell_type": "code",
   "execution_count": 19,
   "metadata": {},
   "outputs": [],
   "source": [
    "with open('test.txt', 'w') as test_txt:\n",
    "    # Going through all elements of the list\n",
    "    for e in test_path:\n",
    "        # Writing current path at the end of the file\n",
    "        test_txt.write(e)"
   ]
  },
  {
   "cell_type": "code",
   "execution_count": 20,
   "metadata": {},
   "outputs": [],
   "source": [
    "c = 0"
   ]
  },
  {
   "cell_type": "code",
   "execution_count": 21,
   "metadata": {},
   "outputs": [],
   "source": [
    "with open(full_path_to_images + '/' + 'classes.names', 'w') as names, \\\n",
    "     open(full_path_to_images + '/' + 'classes.txt', 'r') as txt:\n",
    "    for line in txt:\n",
    "        names.write(line)\n",
    "        c += 1"
   ]
  },
  {
   "cell_type": "code",
   "execution_count": 23,
   "metadata": {},
   "outputs": [],
   "source": [
    "with open(full_path_to_images + '/' + 'custom_data.data', 'w') as data:\n",
    "    data.write('classes = ' + str(c) + '\\n')\n",
    "\n",
    "    data.write('train = ' + full_path_to_images + '/' + 'train.txt' + '\\n')\n",
    "\n",
    "    data.write('valid = ' + full_path_to_images + '/' + 'test.txt' + '\\n')\n",
    "\n",
    "    data.write('names = ' + full_path_to_images + '/' + 'classes.names' + '\\n')\n",
    "\n",
    "    data.write('backup = backup')"
   ]
  },
  {
   "cell_type": "code",
   "execution_count": null,
   "metadata": {},
   "outputs": [],
   "source": []
  }
 ],
 "metadata": {
  "kernelspec": {
   "display_name": "Python 3",
   "language": "python",
   "name": "python3"
  },
  "language_info": {
   "codemirror_mode": {
    "name": "ipython",
    "version": 3
   },
   "file_extension": ".py",
   "mimetype": "text/x-python",
   "name": "python",
   "nbconvert_exporter": "python",
   "pygments_lexer": "ipython3",
   "version": "3.8.5"
  }
 },
 "nbformat": 4,
 "nbformat_minor": 4
}
