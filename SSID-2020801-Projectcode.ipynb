{
 "cells": [
  {
   "cell_type": "markdown",
   "metadata": {},
   "source": [
    "#### Retraining the algorithm require GPU and CUDA, if not available change the flag to GPU = 0 and CUDNN = 0 in the Makefile from darknet directory"
   ]
  },
  {
   "cell_type": "markdown",
   "metadata": {},
   "source": [
    "Full code, dataset and related files are uploaded in github (master branch, not in main branch) as .zip format\n",
    "https://github.com/jayasooryantm/Traffic-detection-using-computer-vision/tree/master\n",
    "or use the below clone command to download directly"
   ]
  },
  {
   "cell_type": "code",
   "execution_count": null,
   "metadata": {},
   "outputs": [],
   "source": [
    "!git clone https://github.com/jayasooryantm/Traffic-detection-using-computer-vision.git"
   ]
  },
  {
   "cell_type": "markdown",
   "metadata": {},
   "source": [
    "# Data Collection"
   ]
  },
  {
   "cell_type": "code",
   "execution_count": null,
   "metadata": {},
   "outputs": [],
   "source": [
    "#cloning OID tool from github\n",
    "!git clone https://github.com/EscVM/OIDv4_ToolKit.git"
   ]
  },
  {
   "cell_type": "code",
   "execution_count": null,
   "metadata": {},
   "outputs": [],
   "source": [
    "%cd OIDv4_ToolKit"
   ]
  },
  {
   "cell_type": "code",
   "execution_count": null,
   "metadata": {},
   "outputs": [],
   "source": [
    "!pip3 install -r 'requirements.txt'"
   ]
  },
  {
   "cell_type": "code",
   "execution_count": null,
   "metadata": {},
   "outputs": [],
   "source": [
    "#downloading 500 images from data repository\n",
    "!python 'main.py' downloader --classes Car --type_csv train --multiclasses 1 --limit 500 -y"
   ]
  },
  {
   "cell_type": "markdown",
   "metadata": {},
   "source": [
    "# Data Pre-Processing"
   ]
  },
  {
   "cell_type": "code",
   "execution_count": null,
   "metadata": {},
   "outputs": [],
   "source": [
    "import pandas as pd\n",
    "import os"
   ]
  },
  {
   "cell_type": "code",
   "execution_count": null,
   "metadata": {},
   "outputs": [],
   "source": [
    "%cd .."
   ]
  },
  {
   "cell_type": "code",
   "execution_count": null,
   "metadata": {},
   "outputs": [],
   "source": [
    "#getting full path to create dataset\n",
    "Directory_fullpath = !pwd\n",
    "Directory_fullpath = Directory_fullpath[0]"
   ]
  },
  {
   "cell_type": "code",
   "execution_count": null,
   "metadata": {},
   "outputs": [],
   "source": [
    "Directory_fullpath"
   ]
  },
  {
   "cell_type": "code",
   "execution_count": null,
   "metadata": {},
   "outputs": [],
   "source": [
    "full_path_to_csv = Directory_fullpath + '/OIDv4_ToolKit/OID/csv_folder'\n",
    "full_path_to_images = Directory_fullpath + '/OIDv4_ToolKit/OID/Dataset/train/Car'"
   ]
  },
  {
   "cell_type": "code",
   "execution_count": null,
   "metadata": {},
   "outputs": [],
   "source": [
    "labels = ['Car']"
   ]
  },
  {
   "cell_type": "code",
   "execution_count": null,
   "metadata": {},
   "outputs": [],
   "source": [
    "#loading class informations\n",
    "classes = pd.read_csv(full_path_to_csv + '/' + 'class-descriptions-boxable.csv', usecols=[0, 1], header=None)"
   ]
  },
  {
   "cell_type": "code",
   "execution_count": null,
   "metadata": {},
   "outputs": [],
   "source": [
    "encrypted_strings = []"
   ]
  },
  {
   "cell_type": "code",
   "execution_count": null,
   "metadata": {},
   "outputs": [],
   "source": [
    "for v in labels:\n",
    "    sub_classes = classes.loc[classes[1] == v]\n",
    "    e = sub_classes.iloc[0][0]\n",
    "    encrypted_strings.append(e)"
   ]
  },
  {
   "cell_type": "code",
   "execution_count": null,
   "metadata": {},
   "outputs": [],
   "source": [
    "#loading annotations\n",
    "annotations = pd.read_csv(full_path_to_csv + '/' + 'train-annotations-bbox.csv', usecols=['ImageID', 'LabelName', 'XMin', 'XMax', 'YMin', 'YMax'])"
   ]
  },
  {
   "cell_type": "code",
   "execution_count": null,
   "metadata": {},
   "outputs": [],
   "source": [
    "#getting only required annotations\n",
    "sub_ann = annotations.loc[annotations['LabelName'].isin(encrypted_strings)].copy()"
   ]
  },
  {
   "cell_type": "code",
   "execution_count": null,
   "metadata": {},
   "outputs": [],
   "source": [
    "sub_ann['classNumber'] = ''\n",
    "sub_ann['center x'] = ''\n",
    "sub_ann['center y'] = ''\n",
    "sub_ann['width'] = ''\n",
    "sub_ann['height'] = ''"
   ]
  },
  {
   "cell_type": "code",
   "execution_count": null,
   "metadata": {},
   "outputs": [],
   "source": [
    "for i in range(len(encrypted_strings)):\n",
    "    sub_ann.loc[sub_ann['LabelName'] == encrypted_strings[i], 'classNumber'] = i"
   ]
  },
  {
   "cell_type": "code",
   "execution_count": null,
   "metadata": {},
   "outputs": [],
   "source": [
    "#calculating the yolo required data format\n",
    "sub_ann['center x'] = (sub_ann['XMax'] + sub_ann['XMin']) / 2\n",
    "sub_ann['center y'] = (sub_ann['YMax'] + sub_ann['YMin']) / 2\n",
    "sub_ann['width'] = sub_ann['XMax'] - sub_ann['XMin']\n",
    "sub_ann['height'] = sub_ann['YMax'] - sub_ann['YMin']"
   ]
  },
  {
   "cell_type": "code",
   "execution_count": null,
   "metadata": {},
   "outputs": [],
   "source": [
    "r = sub_ann.loc[:, ['ImageID', 'classNumber', 'center x', 'center y', 'width', 'height']].copy()"
   ]
  },
  {
   "cell_type": "code",
   "execution_count": null,
   "metadata": {},
   "outputs": [],
   "source": [
    "os.chdir(full_path_to_images)"
   ]
  },
  {
   "cell_type": "code",
   "execution_count": null,
   "metadata": {},
   "outputs": [],
   "source": [
    "#generating annotation file for each image\n",
    "for current_dir, dirs, files in os.walk('.'):\n",
    "    for f in files:\n",
    "        if f.endswith('.jpg'):\n",
    "            image_name = f[:-4]\n",
    "            sub_r = r.loc[r['ImageID'] == image_name]\n",
    "            \n",
    "            resulted_frame = sub_r.loc[:, ['classNumber',\n",
    "                                           'center x',\n",
    "                                           'center y',\n",
    "                                           'width',\n",
    "                                           'height']].copy()\n",
    "\n",
    "            path_to_save = full_path_to_images + '/' + image_name + '.txt'\n",
    "\n",
    "            resulted_frame.to_csv(path_to_save, header=False, index=False, sep=' ')"
   ]
  },
  {
   "cell_type": "code",
   "execution_count": null,
   "metadata": {},
   "outputs": [],
   "source": [
    "path_collection = []"
   ]
  },
  {
   "cell_type": "code",
   "execution_count": null,
   "metadata": {},
   "outputs": [],
   "source": [
    "#collecting all image paths\n",
    "for current_dir, dirs, files in os.walk('.'):\n",
    "    for f in files:\n",
    "        if f.endswith('.jpg'):\n",
    "            path_to_save_into_txt_files = full_path_to_images + '/' + f\n",
    "            path_collection.append(path_to_save_into_txt_files + '\\n')"
   ]
  },
  {
   "cell_type": "code",
   "execution_count": null,
   "metadata": {},
   "outputs": [],
   "source": [
    "#train test split\n",
    "test_path = path_collection[:int(len(path_collection) * 0.15)]\n",
    "path_collection = path_collection[int(len(path_collection) * 0.15):]"
   ]
  },
  {
   "cell_type": "code",
   "execution_count": null,
   "metadata": {},
   "outputs": [],
   "source": [
    "with open('train.txt', 'w') as train_txt:\n",
    "    for e in path_collection:\n",
    "        train_txt.write(e)"
   ]
  },
  {
   "cell_type": "code",
   "execution_count": null,
   "metadata": {},
   "outputs": [],
   "source": [
    "with open('test.txt', 'w') as test_txt:\n",
    "    # Going through all elements of the list\n",
    "    for e in test_path:\n",
    "        # Writing current path at the end of the file\n",
    "        test_txt.write(e)"
   ]
  },
  {
   "cell_type": "code",
   "execution_count": null,
   "metadata": {},
   "outputs": [],
   "source": [
    "c = 0"
   ]
  },
  {
   "cell_type": "code",
   "execution_count": null,
   "metadata": {},
   "outputs": [],
   "source": [
    "#generting class name file\n",
    "with open(full_path_to_images + '/' + 'classes.names', 'w') as names, \\\n",
    "     open(full_path_to_images + '/' + 'classes.txt', 'r') as txt:\n",
    "    for line in txt:\n",
    "        names.write(line)\n",
    "        c += 1"
   ]
  },
  {
   "cell_type": "code",
   "execution_count": null,
   "metadata": {},
   "outputs": [],
   "source": [
    "#generating cofiguration file and train test file\n",
    "with open(full_path_to_images + '/' + 'custom_data.data', 'w') as data:\n",
    "    data.write('classes = ' + str(c) + '\\n')\n",
    "\n",
    "    data.write('train = ' + full_path_to_images + '/' + 'train.txt' + '\\n')\n",
    "\n",
    "    data.write('valid = ' + full_path_to_images + '/' + 'test.txt' + '\\n')\n",
    "\n",
    "    data.write('names = ' + full_path_to_images + '/' + 'classes.names' + '\\n')\n",
    "\n",
    "    data.write('backup = backup')"
   ]
  },
  {
   "cell_type": "markdown",
   "metadata": {},
   "source": [
    "# Transfer Learning"
   ]
  },
  {
   "cell_type": "code",
   "execution_count": null,
   "metadata": {},
   "outputs": [],
   "source": [
    "!git clone https://github.com/AlexeyAB/darknet.git"
   ]
  },
  {
   "cell_type": "code",
   "execution_count": null,
   "metadata": {},
   "outputs": [],
   "source": [
    "darknet_path = Directory_fullpath + '/darknet'\n",
    "%cd {darknet_path}"
   ]
  },
  {
   "cell_type": "code",
   "execution_count": null,
   "metadata": {},
   "outputs": [],
   "source": [
    "!pwd"
   ]
  },
  {
   "cell_type": "code",
   "execution_count": null,
   "metadata": {},
   "outputs": [],
   "source": [
    "#installing darknet framework to retrain YOLOv3\n",
    "!make"
   ]
  },
  {
   "cell_type": "code",
   "execution_count": null,
   "metadata": {},
   "outputs": [],
   "source": [
    "#testing the isntallation \n",
    "!./darknet"
   ]
  },
  {
   "cell_type": "code",
   "execution_count": null,
   "metadata": {},
   "outputs": [],
   "source": [
    "#retraining the YOLov3\n",
    "!./darknet detector train cfg/custom_data.data cfg/yolov3_custom_train.cfg weights/darknet53.conv.74.weights -dont_show"
   ]
  },
  {
   "cell_type": "code",
   "execution_count": null,
   "metadata": {},
   "outputs": [],
   "source": [
    "#getting mAP (mean Average Precision)\n",
    "!./darknet detector map cfg/custom_data.data cfg/yolov3_custom_train.cfg backup/yolov3_custom_train_2000.weights"
   ]
  }
 ],
 "metadata": {
  "kernelspec": {
   "display_name": "Python 3",
   "language": "python",
   "name": "python3"
  },
  "language_info": {
   "codemirror_mode": {
    "name": "ipython",
    "version": 3
   },
   "file_extension": ".py",
   "mimetype": "text/x-python",
   "name": "python",
   "nbconvert_exporter": "python",
   "pygments_lexer": "ipython3",
   "version": "3.8.5"
  }
 },
 "nbformat": 4,
 "nbformat_minor": 4
}
